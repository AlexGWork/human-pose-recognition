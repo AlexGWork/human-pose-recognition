{
 "cells": [
  {
   "cell_type": "code",
   "execution_count": 7,
   "metadata": {},
   "outputs": [],
   "source": [
    "import experiment_settings as eset"
   ]
  },
  {
   "cell_type": "markdown",
   "metadata": {},
   "source": [
    "# Перекидываем картинки в папку эксперимента"
   ]
  },
  {
   "cell_type": "code",
   "execution_count": 51,
   "metadata": {},
   "outputs": [],
   "source": [
    "input_img_dir = 'D:\\_github\\experiments\\\\all_imgs'\n",
    "output_img_dir = 'D:\\_github\\experiments\\\\filitzin\\\\all_cut_imgs\\\\'\n",
    "eset.scale_images(input_dir=input_img_dir, output_dir=output_img_dir)"
   ]
  },
  {
   "cell_type": "markdown",
   "metadata": {},
   "source": [
    "# Настройка csv"
   ]
  },
  {
   "cell_type": "code",
   "execution_count": 9,
   "metadata": {},
   "outputs": [],
   "source": [
    "import pandas as pd"
   ]
  },
  {
   "cell_type": "code",
   "execution_count": 22,
   "metadata": {},
   "outputs": [],
   "source": [
    "def category_filter(categories: list, actions: list, out_csv_path: str,\n",
    "                               csv_path: str):\n",
    "    \n",
    "    \"\"\" \n",
    "    Метод подготовки csv-файла для эксперимента с метками-категориями\n",
    "    categories: список строк с названиями категорий, по которым\n",
    "                будет проводиться эксперимент\n",
    "                out_csv_path: путь к новому csv файлу\n",
    "    csv_path: путь к старому csv файлу\n",
    "    is_action: True - лейблы в столбце action,False - лейблы в столбце category\n",
    "    \"\"\"\n",
    "    \n",
    "    df = pd.read_csv(csv_path, names = ['name', 'train', 'action', \n",
    "                                                'category'])\n",
    "    \n",
    "    \"\"\"\n",
    "    Предварительное удаление лишних столбцов и строк не из тестовой выборки\n",
    "    \"\"\"\n",
    "    df_remove_test = df[df['train']==0]\n",
    "    df.drop(df_remove_test.index, axis =0, inplace = True)\n",
    "    \n",
    "    df_action=df.copy()\n",
    "    \n",
    "    df.drop(['train','action'], axis =1, inplace =True)\n",
    "    df = df.query('category in @categories')\n",
    "    df=df.rename(columns = {'category':'label'})\n",
    "    # Удаляем столбец категорий\n",
    "    \n",
    "    \n",
    "    df_action.drop(['train','category'], axis =1, inplace =True)\n",
    "    df_action = df_action.query('action in @actions')\n",
    "    df_action = df_action.rename(columns = {'action':'label'})\n",
    "    \n",
    "    \n",
    "    print('------------------------------------------------')\n",
    "    print(df_action)\n",
    "    print('!!!!!!!!!!!!!!!!!!!!!!!!!!!!!!!!!!!!!!!!!!!!!!!!')\n",
    "    \n",
    "    frames = [df, df_action]\n",
    "    df=pd.concat(frames)    \n",
    "    \n",
    "    \"\"\"\n",
    "    Замена категорий/действий на числовые лейблы, начиная с 0 и без пропусков\n",
    "    \"\"\"\n",
    "    new_labels = {}\n",
    "    label_counter = 0\n",
    "    for category in categories:\n",
    "        new_labels[category] = label_counter\n",
    "        label_counter+=1\n",
    "    for action in actions:\n",
    "        new_labels[action] = label_counter\n",
    "        label_counter+=1\n",
    "    print(df)\n",
    "    df = df.replace(new_labels)\n",
    "    print('?????????????????????????????????????')\n",
    "    print(df)\n",
    "    \n",
    "    df.to_csv(out_csv_path, header = True, index = False)"
   ]
  },
  {
   "cell_type": "code",
   "execution_count": 23,
   "metadata": {},
   "outputs": [
    {
     "name": "stdout",
     "output_type": "stream",
     "text": [
      "------------------------------------------------\n",
      "                name label\n",
      "47     031171108.jpg     2\n",
      "624    048452299.jpg     2\n",
      "818    039900270.jpg     2\n",
      "1868   016481482.jpg   103\n",
      "1870   072597991.jpg   103\n",
      "...              ...   ...\n",
      "18797  087410963.jpg   227\n",
      "20254  061548842.jpg   103\n",
      "21484  093677207.jpg     2\n",
      "21962  063042646.jpg     2\n",
      "24353  097843422.jpg   103\n",
      "\n",
      "[197 rows x 2 columns]\n",
      "!!!!!!!!!!!!!!!!!!!!!!!!!!!!!!!!!!!!!!!!!!!!!!!!\n",
      "                name    label\n",
      "335    004600264.jpg  walking\n",
      "336    004072880.jpg  walking\n",
      "387    028203457.jpg  walking\n",
      "388    017743954.jpg  walking\n",
      "474    089114311.jpg  running\n",
      "...              ...      ...\n",
      "18797  087410963.jpg      227\n",
      "20254  061548842.jpg      103\n",
      "21484  093677207.jpg        2\n",
      "21962  063042646.jpg        2\n",
      "24353  097843422.jpg      103\n",
      "\n",
      "[1121 rows x 2 columns]\n",
      "?????????????????????????????????????\n",
      "                name  label\n",
      "335    004600264.jpg      0\n",
      "336    004072880.jpg      0\n",
      "387    028203457.jpg      0\n",
      "388    017743954.jpg      0\n",
      "474    089114311.jpg      1\n",
      "...              ...    ...\n",
      "18797  087410963.jpg      4\n",
      "20254  061548842.jpg      3\n",
      "21484  093677207.jpg      2\n",
      "21962  063042646.jpg      2\n",
      "24353  097843422.jpg      3\n",
      "\n",
      "[1121 rows x 2 columns]\n"
     ]
    }
   ],
   "source": [
    "categories = ['walking', 'running']\n",
    "actions = ['2', '103', '227']\n",
    "out_csv_path = 'D:\\_github\\experiments\\\\filitzin\\\\filitzin.csv'\n",
    "input_csv_path = 'D:\\_github\\experiments\\mpii9.csv'\n",
    "category_filter(categories=categories, actions=actions, out_csv_path=out_csv_path, csv_path=input_csv_path)"
   ]
  },
  {
   "cell_type": "markdown",
   "metadata": {},
   "source": [
    "# Отбор картинок по csv"
   ]
  },
  {
   "cell_type": "code",
   "execution_count": 58,
   "metadata": {},
   "outputs": [],
   "source": [
    "import os\n",
    "from shutil import copy\n",
    "\n",
    "def get_files_by_labels(csv_path:str, labels_and_counts:list, \n",
    "                          imgs_source_dir:str):\n",
    "    \n",
    "    df = pd.read_csv(csv_path, names = ['name', 'label'])\n",
    "    raws = df.shape[0]\n",
    "    print(raws)\n",
    "    file_names = []\n",
    "    \n",
    "    for label, base_count in labels_and_counts: \n",
    "        count = base_count\n",
    "        for i in range(1, raws):\n",
    "            if count <= 0:\n",
    "                break\n",
    "            if os.path.exists(imgs_source_dir+df['name'][i]):\n",
    "                #print('exist')\n",
    "                if (int(df['label'][i]) == label):\n",
    "                    count -= 1\n",
    "                    file_names.append(df['name'][i])\n",
    "        print(str(label)+\": \" + str(base_count - count))\n",
    "\n",
    "    print(\"NAMEEEEEES\")   \n",
    "    print(len(file_names))\n",
    "        \n",
    "    return file_names\n",
    "\n",
    "def copy_files(source_dir: str, destination_dir: str, files: list):\n",
    "    \n",
    "    fails = []\n",
    "    for file in files:\n",
    "        try:\n",
    "            copy(source_dir+file, destination_dir)\n",
    "        except FileNotFoundError:\n",
    "            fails.append(file)\n",
    "    return fails"
   ]
  },
  {
   "cell_type": "code",
   "execution_count": 59,
   "metadata": {},
   "outputs": [
    {
     "name": "stdout",
     "output_type": "stream",
     "text": [
      "D:\\_github\\experiments\\filitzin\\1_max90\\\n",
      "1122\n",
      "0: 90\n",
      "1: 90\n",
      "2: 34\n",
      "3: 73\n",
      "4: 90\n",
      "NAMEEEEEES\n",
      "377\n"
     ]
    },
    {
     "data": {
      "text/plain": [
       "[]"
      ]
     },
     "execution_count": 59,
     "metadata": {},
     "output_type": "execute_result"
    }
   ],
   "source": [
    "csv_path = 'D:\\_github\\experiments\\\\filitzin\\\\filitzin.csv'\n",
    "labels_and_counts = [(0, 90),(1, 90),(2, 90),(3, 90),(4, 90)]\n",
    "imgs_source_dir = 'D:\\_github\\experiments\\\\filitzin\\\\all_cut_imgs\\\\'\n",
    "imgs_target_dir = 'D:\\_github\\experiments\\\\filitzin\\\\1_max90\\\\'\n",
    "print(imgs_target_dir)\n",
    "files = get_files_by_labels(csv_path=csv_path, labels_and_counts=labels_and_counts, imgs_source_dir=imgs_source_dir)\n",
    "#imgs_source_dir = 'D:\\_github\\experiments\\\\filitzin\\\\all_cut_imgs'\n",
    "copy_files(source_dir=imgs_source_dir, destination_dir=imgs_target_dir, files=files)"
   ]
  },
  {
   "cell_type": "code",
   "execution_count": null,
   "metadata": {},
   "outputs": [],
   "source": []
  }
 ],
 "metadata": {
  "kernelspec": {
   "display_name": "Python 3",
   "language": "python",
   "name": "python3"
  },
  "language_info": {
   "codemirror_mode": {
    "name": "ipython",
    "version": 3
   },
   "file_extension": ".py",
   "mimetype": "text/x-python",
   "name": "python",
   "nbconvert_exporter": "python",
   "pygments_lexer": "ipython3",
   "version": "3.6.9"
  }
 },
 "nbformat": 4,
 "nbformat_minor": 2
}
